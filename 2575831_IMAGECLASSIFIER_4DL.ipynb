{
 "cells": [
  {
   "cell_type": "code",
   "execution_count": 1,
   "id": "6706755a",
   "metadata": {},
   "outputs": [],
   "source": [
    "import torch\n",
    "import torch.nn as nn\n",
    "import torchvision\n",
    "import torchvision.transforms as transforms\n",
    "from torch.utils.data import DataLoader"
   ]
  },
  {
   "cell_type": "code",
   "execution_count": 2,
   "id": "42213cba",
   "metadata": {},
   "outputs": [],
   "source": [
    "# Define the transforms for data preprocessing\n",
    "transform = transforms.Compose([\n",
    "    transforms.ToTensor(),\n",
    "    transforms.Normalize((0.5, 0.5, 0.5), (0.5, 0.5, 0.5))  # Normalize the images\n",
    "])\n"
   ]
  },
  {
   "cell_type": "code",
   "execution_count": 3,
   "id": "6d991321",
   "metadata": {},
   "outputs": [
    {
     "name": "stdout",
     "output_type": "stream",
     "text": [
      "Downloading https://www.cs.toronto.edu/~kriz/cifar-10-python.tar.gz to ./data\\cifar-10-python.tar.gz\n"
     ]
    },
    {
     "name": "stderr",
     "output_type": "stream",
     "text": [
      "100%|███████████████████████████████████████████████████████████████| 170498071/170498071 [02:32<00:00, 1118380.49it/s]\n"
     ]
    },
    {
     "name": "stdout",
     "output_type": "stream",
     "text": [
      "Extracting ./data\\cifar-10-python.tar.gz to ./data\n",
      "Files already downloaded and verified\n"
     ]
    }
   ],
   "source": [
    "# Load CIFAR-10 dataset\n",
    "train_dataset = torchvision.datasets.CIFAR10(root='./data', train=True, download=True, transform=transform)\n",
    "test_dataset = torchvision.datasets.CIFAR10(root='./data', train=False, download=True, transform=transform)\n"
   ]
  },
  {
   "cell_type": "code",
   "execution_count": 4,
   "id": "cae141ae",
   "metadata": {},
   "outputs": [],
   "source": [
    "\n",
    "# Define DataLoader to handle batches and shuffling\n",
    "train_loader = DataLoader(dataset=train_dataset, batch_size=64, shuffle=True)\n",
    "test_loader = DataLoader(dataset=test_dataset, batch_size=64, shuffle=False)\n"
   ]
  },
  {
   "cell_type": "code",
   "execution_count": 16,
   "id": "4afca6b3",
   "metadata": {},
   "outputs": [],
   "source": [
    "# Define the CNN model\n",
    "class CNN(nn.Module):\n",
    "    def __init__(self):\n",
    "        super(CNN, self).__init__()\n",
    "        self.conv1 = nn.Conv2d(3, 16, kernel_size=3, stride=1, padding=1)\n",
    "        self.conv2 = nn.Conv2d(16, 32, kernel_size=3, stride=1, padding=1)\n",
    "        self.pool = nn.MaxPool2d(2, 2)\n",
    "        self.fc1 = nn.Linear(32 * 8 * 8, 128)\n",
    "        self.fc2 = nn.Linear(128, 10)  # 10 classes in CIFAR-10\n",
    "\n",
    "    def forward(self, x):\n",
    "        x = self.pool(torch.relu(self.conv1(x)))\n",
    "        x = self.pool(torch.relu(self.conv2(x)))\n",
    "        x = x.view(-1, 32 * 8 * 8)\n",
    "        x = torch.relu(self.fc1(x))\n",
    "        x = self.fc2(x)\n",
    "        return x"
   ]
  },
  {
   "cell_type": "code",
   "execution_count": 17,
   "id": "d3fb8911",
   "metadata": {},
   "outputs": [],
   "source": [
    "# Initialize the model, loss function, and optimizer\n",
    "model = CNN()\n",
    "criterion = nn.CrossEntropyLoss()\n",
    "optimizer = torch.optim.Adam(model.parameters(), lr=0.001)"
   ]
  },
  {
   "cell_type": "code",
   "execution_count": 18,
   "id": "7e061e9f",
   "metadata": {},
   "outputs": [
    {
     "name": "stdout",
     "output_type": "stream",
     "text": [
      "Epoch [1/10], Step [100/782], Loss: 1.6766\n",
      "Epoch [1/10], Step [200/782], Loss: 1.4352\n",
      "Epoch [1/10], Step [300/782], Loss: 1.4589\n",
      "Epoch [1/10], Step [400/782], Loss: 1.4400\n",
      "Epoch [1/10], Step [500/782], Loss: 1.4611\n",
      "Epoch [1/10], Step [600/782], Loss: 1.0824\n",
      "Epoch [1/10], Step [700/782], Loss: 1.4276\n",
      "Epoch [2/10], Step [100/782], Loss: 1.3629\n",
      "Epoch [2/10], Step [200/782], Loss: 1.0214\n",
      "Epoch [2/10], Step [300/782], Loss: 1.1302\n",
      "Epoch [2/10], Step [400/782], Loss: 1.1751\n",
      "Epoch [2/10], Step [500/782], Loss: 0.9303\n",
      "Epoch [2/10], Step [600/782], Loss: 1.0169\n",
      "Epoch [2/10], Step [700/782], Loss: 1.0261\n",
      "Epoch [3/10], Step [100/782], Loss: 1.0532\n",
      "Epoch [3/10], Step [200/782], Loss: 0.8294\n",
      "Epoch [3/10], Step [300/782], Loss: 0.8660\n",
      "Epoch [3/10], Step [400/782], Loss: 0.7107\n",
      "Epoch [3/10], Step [500/782], Loss: 0.9715\n",
      "Epoch [3/10], Step [600/782], Loss: 0.6831\n",
      "Epoch [3/10], Step [700/782], Loss: 0.9279\n",
      "Epoch [4/10], Step [100/782], Loss: 1.0556\n",
      "Epoch [4/10], Step [200/782], Loss: 0.8353\n",
      "Epoch [4/10], Step [300/782], Loss: 0.9744\n",
      "Epoch [4/10], Step [400/782], Loss: 0.8674\n",
      "Epoch [4/10], Step [500/782], Loss: 0.9796\n",
      "Epoch [4/10], Step [600/782], Loss: 0.9477\n",
      "Epoch [4/10], Step [700/782], Loss: 0.8351\n",
      "Epoch [5/10], Step [100/782], Loss: 0.6956\n",
      "Epoch [5/10], Step [200/782], Loss: 0.8892\n",
      "Epoch [5/10], Step [300/782], Loss: 0.7057\n",
      "Epoch [5/10], Step [400/782], Loss: 0.8300\n",
      "Epoch [5/10], Step [500/782], Loss: 0.5848\n",
      "Epoch [5/10], Step [600/782], Loss: 0.9319\n",
      "Epoch [5/10], Step [700/782], Loss: 0.7041\n",
      "Epoch [6/10], Step [100/782], Loss: 0.7418\n",
      "Epoch [6/10], Step [200/782], Loss: 0.5361\n",
      "Epoch [6/10], Step [300/782], Loss: 0.6819\n",
      "Epoch [6/10], Step [400/782], Loss: 0.5630\n",
      "Epoch [6/10], Step [500/782], Loss: 0.7881\n",
      "Epoch [6/10], Step [600/782], Loss: 0.8966\n",
      "Epoch [6/10], Step [700/782], Loss: 0.7326\n",
      "Epoch [7/10], Step [100/782], Loss: 0.6274\n",
      "Epoch [7/10], Step [200/782], Loss: 0.6979\n",
      "Epoch [7/10], Step [300/782], Loss: 0.5581\n",
      "Epoch [7/10], Step [400/782], Loss: 0.5426\n",
      "Epoch [7/10], Step [500/782], Loss: 0.3429\n",
      "Epoch [7/10], Step [600/782], Loss: 0.5746\n",
      "Epoch [7/10], Step [700/782], Loss: 0.5915\n",
      "Epoch [8/10], Step [100/782], Loss: 0.5795\n",
      "Epoch [8/10], Step [200/782], Loss: 0.3993\n",
      "Epoch [8/10], Step [300/782], Loss: 0.5791\n",
      "Epoch [8/10], Step [400/782], Loss: 0.7766\n",
      "Epoch [8/10], Step [500/782], Loss: 0.4607\n",
      "Epoch [8/10], Step [600/782], Loss: 0.6947\n",
      "Epoch [8/10], Step [700/782], Loss: 0.7172\n",
      "Epoch [9/10], Step [100/782], Loss: 0.4501\n",
      "Epoch [9/10], Step [200/782], Loss: 0.4854\n",
      "Epoch [9/10], Step [300/782], Loss: 0.4483\n",
      "Epoch [9/10], Step [400/782], Loss: 0.3348\n",
      "Epoch [9/10], Step [500/782], Loss: 0.4609\n",
      "Epoch [9/10], Step [600/782], Loss: 0.4524\n",
      "Epoch [9/10], Step [700/782], Loss: 0.3693\n",
      "Epoch [10/10], Step [100/782], Loss: 0.3746\n",
      "Epoch [10/10], Step [200/782], Loss: 0.3272\n",
      "Epoch [10/10], Step [300/782], Loss: 0.3851\n",
      "Epoch [10/10], Step [400/782], Loss: 0.4383\n",
      "Epoch [10/10], Step [500/782], Loss: 0.5675\n",
      "Epoch [10/10], Step [600/782], Loss: 0.4944\n",
      "Epoch [10/10], Step [700/782], Loss: 0.4118\n"
     ]
    }
   ],
   "source": [
    "\n",
    "# Training the model\n",
    "num_epochs = 10\n",
    "total_step = len(train_loader)\n",
    "for epoch in range(num_epochs):\n",
    "    for i, (images, labels) in enumerate(train_loader):\n",
    "        outputs = model(images)\n",
    "        loss = criterion(outputs, labels)\n",
    "\n",
    "        optimizer.zero_grad()\n",
    "        loss.backward()\n",
    "        optimizer.step()\n",
    "\n",
    "        if (i+1) % 100 == 0:\n",
    "            print(f'Epoch [{epoch+1}/{num_epochs}], Step [{i+1}/{total_step}], Loss: {loss.item():.4f}')"
   ]
  },
  {
   "cell_type": "code",
   "execution_count": 19,
   "id": "35a4ed08",
   "metadata": {},
   "outputs": [
    {
     "name": "stdout",
     "output_type": "stream",
     "text": [
      "Accuracy of the model on the test images: 69.62%\n"
     ]
    }
   ],
   "source": [
    "# Evaluate the model\n",
    "model.eval()\n",
    "with torch.no_grad():\n",
    "    correct = 0\n",
    "    total = 0\n",
    "    for images, labels in test_loader:\n",
    "        outputs = model(images)\n",
    "        _, predicted = torch.max(outputs.data, 1)\n",
    "        total += labels.size(0)\n",
    "        correct += (predicted == labels).sum().item()\n",
    "\n",
    "    print(f'Accuracy of the model on the test images: {(100 * correct / total):.2f}%')"
   ]
  },
  {
   "cell_type": "code",
   "execution_count": null,
   "id": "f75fdd30",
   "metadata": {},
   "outputs": [],
   "source": []
  }
 ],
 "metadata": {
  "kernelspec": {
   "display_name": "Python 3 (ipykernel)",
   "language": "python",
   "name": "python3"
  },
  "language_info": {
   "codemirror_mode": {
    "name": "ipython",
    "version": 3
   },
   "file_extension": ".py",
   "mimetype": "text/x-python",
   "name": "python",
   "nbconvert_exporter": "python",
   "pygments_lexer": "ipython3",
   "version": "3.11.4"
  }
 },
 "nbformat": 4,
 "nbformat_minor": 5
}
